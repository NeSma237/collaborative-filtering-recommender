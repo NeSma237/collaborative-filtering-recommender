{
  "nbformat": 4,
  "nbformat_minor": 0,
  "metadata": {
    "colab": {
      "provenance": [],
      "authorship_tag": "ABX9TyMTdImEqN84qRBO6u1uCh3h",
      "include_colab_link": true
    },
    "kernelspec": {
      "name": "python3",
      "display_name": "Python 3"
    },
    "language_info": {
      "name": "python"
    }
  },
  "cells": [
    {
      "cell_type": "markdown",
      "metadata": {
        "id": "view-in-github",
        "colab_type": "text"
      },
      "source": [
        "<a href=\"https://colab.research.google.com/github/NeSma237/collaborative-filtering-recommender/blob/main/notebooks/item_based_cf.ipynb\" target=\"_parent\"><img src=\"https://colab.research.google.com/assets/colab-badge.svg\" alt=\"Open In Colab\"/></a>"
      ]
    },
    {
      "cell_type": "code",
      "source": [
        "!mkdir collaborative-filtering-recommender\n",
        "!cd collaborative-filtering-recommender\n",
        "!mkdir data notebooks src results\n",
        "!touch README.md requirements.txt\n",
        "!touch README.md requirements.txt"
      ],
      "metadata": {
        "id": "N4v1pPnB_wKh"
      },
      "execution_count": null,
      "outputs": []
    },
    {
      "cell_type": "code",
      "source": [
        "!wget http://files.grouplens.org/datasets/movielens/ml-100k.zip\n",
        "!unzip ml-100k.zip\n",
        "\n",
        "import pandas as pd\n",
        "\n",
        "ratings = pd.read_csv('ml-100k/u.data', sep='\\t', names=['user_id', 'movie_id', 'rating', 'timestamp'])\n",
        "movies = pd.read_csv('ml-100k/u.item', sep='|', names=['movie_id', 'movie_title', 'release_date', 'video_release_date', 'IMDb_URL', 'unknown', 'Action', 'Adventure', 'Animation', \"Children's\", 'Comedy', 'Crime', 'Documentary', 'Drama', 'Fantasy', 'Film-Noir', 'Horror', 'Musical', 'Mystery', 'Romance', 'Sci-Fi', 'Thriller', 'War', 'Western'], encoding='latin-1')\n",
        "users = pd.read_csv('ml-100k/u.user', sep='|', names=['user_id', 'age', 'gender', 'occupation', 'zip_code'])"
      ],
      "metadata": {
        "colab": {
          "base_uri": "https://localhost:8080/"
        },
        "collapsed": true,
        "id": "1UxTJgTf_7h9",
        "outputId": "c0dfaa18-8376-4188-b17a-64a629fc095f"
      },
      "execution_count": null,
      "outputs": [
        {
          "output_type": "stream",
          "name": "stdout",
          "text": [
            "--2025-04-25 17:44:53--  http://files.grouplens.org/datasets/movielens/ml-100k.zip\n",
            "Resolving files.grouplens.org (files.grouplens.org)... 128.101.65.152\n",
            "Connecting to files.grouplens.org (files.grouplens.org)|128.101.65.152|:80... connected.\n",
            "HTTP request sent, awaiting response... 200 OK\n",
            "Length: 4924029 (4.7M) [application/zip]\n",
            "Saving to: ‘ml-100k.zip’\n",
            "\n",
            "ml-100k.zip         100%[===================>]   4.70M  5.53MB/s    in 0.8s    \n",
            "\n",
            "2025-04-25 17:44:54 (5.53 MB/s) - ‘ml-100k.zip’ saved [4924029/4924029]\n",
            "\n",
            "Archive:  ml-100k.zip\n",
            "   creating: ml-100k/\n",
            "  inflating: ml-100k/allbut.pl       \n",
            "  inflating: ml-100k/mku.sh          \n",
            "  inflating: ml-100k/README          \n",
            "  inflating: ml-100k/u.data          \n",
            "  inflating: ml-100k/u.genre         \n",
            "  inflating: ml-100k/u.info          \n",
            "  inflating: ml-100k/u.item          \n",
            "  inflating: ml-100k/u.occupation    \n",
            "  inflating: ml-100k/u.user          \n",
            "  inflating: ml-100k/u1.base         \n",
            "  inflating: ml-100k/u1.test         \n",
            "  inflating: ml-100k/u2.base         \n",
            "  inflating: ml-100k/u2.test         \n",
            "  inflating: ml-100k/u3.base         \n",
            "  inflating: ml-100k/u3.test         \n",
            "  inflating: ml-100k/u4.base         \n",
            "  inflating: ml-100k/u4.test         \n",
            "  inflating: ml-100k/u5.base         \n",
            "  inflating: ml-100k/u5.test         \n",
            "  inflating: ml-100k/ua.base         \n",
            "  inflating: ml-100k/ua.test         \n",
            "  inflating: ml-100k/ub.base         \n",
            "  inflating: ml-100k/ub.test         \n"
          ]
        }
      ]
    },
    {
      "cell_type": "code",
      "source": [
        "import pandas as pd\n",
        "import numpy as np\n",
        "from sklearn.metrics.pairwise import cosine_similarity\n",
        "from sklearn.metrics import mean_squared_error\n",
        "from surprise import Dataset, Reader, KNNBasic\n",
        "from surprise.model_selection import train_test_split\n",
        "import matplotlib.pyplot as plt\n",
        "import seaborn as sns"
      ],
      "metadata": {
        "id": "ex_SCyVcUuDl"
      },
      "execution_count": 35,
      "outputs": []
    },
    {
      "cell_type": "code",
      "source": [
        "user_item_matrix = pd.read_csv(\"data/merged_data.csv\")\n",
        "# Load results from both models\n",
        "user_based_metrics = pd.read_csv('data/merged_data.csv')\n",
        "item_based_metrics = pd.read_csv('data/merged_data.csv')\n",
        "\n",
        "# Load sample recommendations\n",
        "user_recs = pd.read_csv('data/merged_data.csv')\n",
        "item_recs = pd.read_csv('data/merged_data.csv')\n",
        "\n",
        "# Load ratings and movie data\n",
        "ratings = pd.read_csv('ml-100k/u.data', sep='\\t', names=['user_id', 'item_id', 'rating', 'timestamp'])\n",
        "movies = pd.read_csv('ml-100k/u.item', sep='|', names=['movie_id', 'movie_title', 'release_date', 'video_release_date', 'IMDb_URL', 'unknown', 'Action', 'Adventure', 'Animation', \"Children's\", 'Comedy', 'Crime', 'Documentary', 'Drama', 'Fantasy', 'Film-Noir', 'Horror', 'Musical', 'Mystery', 'Romance', 'Sci-Fi', 'Thriller', 'War', 'Western'], encoding='latin-1')\n",
        "\n",
        "# Create item-user matrix (transpose of user-item matrix)\n",
        "item_user_matrix = ratings.pivot_table(index='item_id', columns='user_id', values='rating').fillna(0)\n",
        "print(\"Item-User Matrix Shape:\", item_user_matrix.shape)"
      ],
      "metadata": {
        "id": "GbgOORobUx9t",
        "colab": {
          "base_uri": "https://localhost:8080/"
        },
        "outputId": "ac3ea2db-1c2e-44ac-8b24-b0dba0d6d1a6"
      },
      "execution_count": 36,
      "outputs": [
        {
          "output_type": "stream",
          "name": "stdout",
          "text": [
            "Item-User Matrix Shape: (1682, 943)\n"
          ]
        }
      ]
    },
    {
      "cell_type": "code",
      "source": [
        "# Calculate cosine similarity between items\n",
        "item_similarity = cosine_similarity(item_user_matrix)\n",
        "item_similarity = pd.DataFrame(\n",
        "    item_similarity,\n",
        "    index=item_user_matrix.index,\n",
        "    columns=item_user_matrix.index\n",
        ")\n",
        "\n",
        "print(\"Item Similarity Matrix Shape:\", item_similarity.shape)\n",
        "print(\"Sample (First 5 Items):\")\n",
        "print(item_similarity.iloc[:5, :5])"
      ],
      "metadata": {
        "colab": {
          "base_uri": "https://localhost:8080/"
        },
        "id": "SF9IYHRHVaz5",
        "outputId": "23ce8949-056d-4853-9065-7a4bd28e1c49"
      },
      "execution_count": 37,
      "outputs": [
        {
          "output_type": "stream",
          "name": "stdout",
          "text": [
            "Item Similarity Matrix Shape: (1682, 1682)\n",
            "Sample (First 5 Items):\n",
            "item_id         1         2         3         4         5\n",
            "item_id                                                  \n",
            "1        1.000000  0.402382  0.330245  0.454938  0.286714\n",
            "2        0.402382  1.000000  0.273069  0.502571  0.318836\n",
            "3        0.330245  0.273069  1.000000  0.324866  0.212957\n",
            "4        0.454938  0.502571  0.324866  1.000000  0.334239\n",
            "5        0.286714  0.318836  0.212957  0.334239  1.000000\n"
          ]
        }
      ]
    },
    {
      "cell_type": "code",
      "source": [
        "def predict_rating(user_id, item_id, k=5):\n",
        "    \"\"\"\n",
        "    Predicts a user's rating for an item using:\n",
        "    - Weighted average of ratings from top-K similar items\n",
        "    \"\"\"\n",
        "    # Get user's ratings\n",
        "    user_ratings = item_user_matrix[user_id]\n",
        "\n",
        "    # Get similarity scores for the target item\n",
        "    sim_scores = item_similarity.loc[item_id]\n",
        "\n",
        "    # Find items the user has rated\n",
        "    rated_items = user_ratings[user_ratings > 0].index\n",
        "\n",
        "    # Get top-K most similar items that the user rated\n",
        "    top_k_items = sim_scores[rated_items].sort_values(ascending=False)[:k]\n",
        "\n",
        "    # Calculate weighted average\n",
        "    weighted_sum = np.dot(\n",
        "        top_k_items.values,\n",
        "        item_user_matrix.loc[top_k_items.index, user_id]\n",
        "    )\n",
        "    prediction = weighted_sum / top_k_items.sum()\n",
        "\n",
        "    return prediction"
      ],
      "metadata": {
        "id": "gxfdq6Y9V0Te"
      },
      "execution_count": 38,
      "outputs": []
    },
    {
      "cell_type": "code",
      "source": [
        "def recommend_items(user_id, n=5, k=5):\n",
        "    \"\"\"\n",
        "    Recommends top-N items a user hasn't rated yet.\n",
        "    \"\"\"\n",
        "    # Items the user has already rated\n",
        "    rated_items = ratings[ratings['user_id'] == user_id]['item_id']\n",
        "\n",
        "    # Predict ratings for unrated items\n",
        "    predictions = []\n",
        "    for item in item_user_matrix.index:\n",
        "        if item not in rated_items.values:\n",
        "            pred = predict_rating(user_id, item, k=k)\n",
        "            movie_title = movies[movies['movie_id'] == item]['movie_title'].values[0]\n",
        "            predictions.append((movie_title, pred))\n",
        "\n",
        "    # Sort by predicted rating\n",
        "    recommendations = sorted(predictions, key=lambda x: x[1], reverse=True)[:n]\n",
        "\n",
        "    return recommendations\n",
        "\n",
        "\n",
        "user_id = 1\n",
        "recommendations = recommend_items(user_id, n=5)\n",
        "print(f\"Top 5 Recommendations for User {user_id}:\")\n",
        "for i, (movie, rating) in enumerate(recommendations, 1):\n",
        "    print(f\"{i}. {movie} (Predicted Rating: {rating:.2f})\")"
      ],
      "metadata": {
        "colab": {
          "base_uri": "https://localhost:8080/"
        },
        "id": "tED_99IqV4cF",
        "outputId": "10f983c9-d335-4e92-9878-47d4eadbcbe8"
      },
      "execution_count": 40,
      "outputs": [
        {
          "output_type": "stream",
          "name": "stdout",
          "text": [
            "Top 5 Recommendations for User 1:\n",
            "1. Evita (1996) (Predicted Rating: 5.00)\n",
            "2. Young Poisoner's Handbook, The (1995) (Predicted Rating: 5.00)\n",
            "3. Everyone Says I Love You (1996) (Predicted Rating: 5.00)\n",
            "4. Mother (1996) (Predicted Rating: 5.00)\n",
            "5. Return of Martin Guerre, The (Retour de Martin Guerre, Le) (1982) (Predicted Rating: 5.00)\n"
          ]
        }
      ]
    }
  ]
}